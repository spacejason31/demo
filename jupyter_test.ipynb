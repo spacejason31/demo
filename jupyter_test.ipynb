{
 "nbformat": 4,
 "nbformat_minor": 2,
 "metadata": {
  "language_info": {
   "name": "python",
   "codemirror_mode": {
    "name": "ipython",
    "version": 3
   },
   "version": "3.7.6-final"
  },
  "orig_nbformat": 2,
  "file_extension": ".py",
  "mimetype": "text/x-python",
  "name": "python",
  "npconvert_exporter": "python",
  "pygments_lexer": "ipython3",
  "version": 3,
  "kernelspec": {
   "name": "python3",
   "display_name": "Python 3"
  }
 },
 "cells": [
  {
   "cell_type": "code",
   "execution_count": 9,
   "metadata": {},
   "outputs": [],
   "source": [
    "class Circle(object):\n",
    "    def __init__(self, radius, color):\n",
    "        self.radius = radius\n",
    "        self.color = color\n",
    "    def add_radius(self, r):\n",
    "        self.radius = self.radius + r\n",
    "        return(self.radius)\n",
    "    def show(self):\n",
    "        stats = \"Radius: \" + str(self.radius) + \", Color: \" + str(self.color)\n",
    "        print(stats)"
   ]
  },
  {
   "cell_type": "code",
   "execution_count": 10,
   "metadata": {},
   "outputs": [
    {
     "output_type": "stream",
     "name": "stdout",
     "text": "5\n10\n12\n"
    }
   ],
   "source": [
    "circle_1 = Circle(5, \"blue\") \n",
    "print(circle_1.radius)\n",
    "circle_1.radius = 10\n",
    "print(circle_1.radius)\n",
    "circle_1.add_radius(2)\n",
    "print(circle_1.radius)"
   ]
  },
  {
   "cell_type": "code",
   "execution_count": 11,
   "metadata": {},
   "outputs": [],
   "source": [
    "circle_2 = Circle(14, \"red\")"
   ]
  },
  {
   "cell_type": "code",
   "execution_count": 12,
   "metadata": {},
   "outputs": [
    {
     "output_type": "stream",
     "name": "stdout",
     "text": "Radius: 12, Color: blue\nRadius: 14, Color: red\n"
    }
   ],
   "source": [
    "circle_1.show()\n",
    "circle_2.show()"
   ]
  }
 ]
}